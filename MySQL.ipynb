{
  "nbformat": 4,
  "nbformat_minor": 0,
  "metadata": {
    "colab": {
      "name": "MySQL",
      "provenance": [],
      "collapsed_sections": []
    },
    "kernelspec": {
      "name": "python3",
      "display_name": "Python 3"
    }
  },
  "cells": [
    {
      "cell_type": "markdown",
      "metadata": {
        "id": "1Hs6GeIbHuu6",
        "colab_type": "text"
      },
      "source": [
        "# SQL이란?"
      ]
    },
    {
      "cell_type": "markdown",
      "metadata": {
        "id": "owa6hWWRLvsB",
        "colab_type": "text"
      },
      "source": [
        "1. DML(Data Manipulation language)\n",
        "\n",
        "2. DDL(Data Definition language)\n",
        "\n",
        "3. DCL(Data Control language)"
      ]
    },
    {
      "cell_type": "markdown",
      "metadata": {
        "id": "MW1OejrCL4L2",
        "colab_type": "text"
      },
      "source": [
        "# 실행언어 모음"
      ]
    },
    {
      "cell_type": "markdown",
      "metadata": {
        "id": "PAqojX3pMFUV",
        "colab_type": "text"
      },
      "source": [
        "- block을 씌우면 부분 실행 가능\n",
        "- **;**: SQL query가 끝났다는 표시\n",
        "- * : 모든 것(all)을 표현할 때 사용\n",
        "- **SHOW databases** : MySQL서버에 Database가 뭐가 있는지 보여달라는 명령\n",
        "- **USE 'database name'** : 사용할 데이터베이스 지정. 해당 database를 사용하게끔 하는 명령. 더블클릭으로도 가능 (두꺼운 글씨로 바뀌면 성공한 것)\n",
        "- **SHOW table** : 데이터베이스의 테이블 이름 보기\n",
        "- **SHOW table STATUS** : 데이터베이스의 테이블 정보 조회\n",
        "- **DESCRIBE 'table name'** : 데이터 table에 무슨 열이 있는지 조회  \n",
        "  **DESC** : 여기까지만 써도 됨\n",
        "\n",
        "## Select\n",
        "- **SELECT** : 데이터를 가져오는 구문. 데이터베이스 내 테이블에서 원하는 정보를 추출\n",
        "  > `select의 구문 형식`  \n",
        "   SELECT select_expr\n",
        "    - [FROM table_references]    # column을 보고 싶을 때\n",
        "    - [WHERE where_condition]   # row를 보고 싶을 때\n",
        "    - [GROUP BY {col_name | expr | position}]\n",
        "    - [HAVING where_condition]\n",
        "    - [ORDER BY {col_name | expr | position}]\n",
        "- **SELECT 'col_names' FROM 'table_name'** : table에서 원하는 col만 불러오기\n",
        "- **SELECT 'col_names' FROM 'table_name'** where '조건' : table에서 원하는 col 중에서 원하는 row를 뽑기  \n",
        "  **여기에** AND, OR 등의 관계 연산자들 사용가능!\n",
        "- **SELECT * FROM 'table_name' WHERE 'column name' BETWEEN 'condition1' AND 'condition2** : between 문을 쓰는 방법\n",
        "\n",
        "- **IN** : 이산적인 값의 조건에서 사용가능\n",
        "- **BETWEEN**: 조건을 걸어줄 때 편리\n",
        "- **WHERE**: 원하는 조건에 따라 데이터 선택 가능\n",
        "- **LIKE**: 문자열의 내용 검색. \n",
        "  - 문자 뒤에 %: 무엇이든 허용\n",
        "  - _: 한 글자만 매치하기 위함\n",
        "- SUB QUERY: 쿼리문 안에 또 쿼리문이 들어 있는 것\n",
        "  - ANY: sub query의 결과 중에 한 가지만 만족해도 가능\n",
        "  - ALL: sub query의 결과를 모두 만족시켜야 함\n",
        "- ORDER BY: 결과가 출력되는 순서를 조절하는 구문. Ascending이 default\n",
        "- DISTINCT: 중복된 것을 1개씩만 보여주면서 출력, 테이블의 크기가 클수록 효율적\n",
        "- LIMIT: 출력 개수를 제한. 상위의 N개만 출력하는 'limit n' 구문\n",
        "- GROUP BY\n",
        ": 그룹을 묶어주는 역할\n",
        "  - avg( ): 평균\n",
        "  - min( ): 최소값\n",
        "  - max( ): 최대값\n",
        "  - count( ): 행의 개수\n",
        "  - count( distinct ): 중복 제외된 행의 개수\n",
        "  - stdev( ): 표준 편차\n",
        "  - variance( ): 분산\n",
        "  - as 'column name': as를 붙이면 뒤에 원하는 column 이름이 옴\n",
        "- HAVING: WHERE과 비슷한 개념으로 조건 제한. 반드시 group by절 다음에 나와야 함\n",
        "- ROLLUP: 총합 또는 중간합계가 필요할 경우에 사용. GROUPY BY절과 함께 WITH ROLLUP문 사용\n",
        "- JOIN: 데이터베이스 내의 여러 테이블에서 가져온 레코드를 조합하여 하나의 테이블이나 결과 집합으로 표현\n",
        "\n",
        "> MySQL 내장 함수\n",
        "- LENGTH( ): 전달받은 문자열의 길이를 반환\n",
        "- CONCAT( ): 전달받은 문자열을 모두 결합하여 하나의 문자열로 반환\n",
        "- LOCATE( ): 문자열 내에서 찾는 문자열이 처음으로 나타나는 위치를 찾아서 해당 위치를 반환. 찾는 문자열이 존재하지 않으면 0을 반환. MySQL은 문자열의 시작 index를 1부터 계산\n",
        "- LEFT( ): 문자열의 왼쪽부터 지정한 개수만큼의 문자를 반환\n",
        "- RIGHT( ): 문자열의 오른쪽부터 지정한 개수만큼의 문자를 반환\n",
        "- LOWER( ): 문자열을 모두 소문자로 변경\n",
        "- UPPER( ): 문자열을 모두 대문자로 변경\n",
        "- REPLACE( ): 문자열에서 특정 문자열을 대체 문자열로 교체\n",
        "- TRIM( ): 문자열의 앞 or 뒤 or 양쪽 모두에 있는 특정 문자를 제거  \n",
        "  > 사용가능한 지정자\n",
        "  - BOTH: 전달받은 문자열의 양 끝에 존재하는 특정 문자를 제거(Default)\n",
        "  - LEADING: 전달받은 문자열 앞에 존재하는 특정 문자를 제거\n",
        "  - TRAILING: 전달받은 문자열 뒤에 존재하는 특정 문자를 제거\n",
        "- FORMAT( ): 숫자 타입의 데이터를 세 자리마다 쉼표를 사용하는 형식으로 변한. 반환되는 데이터는 str, 두 번째 인수는 반올림할 소수 부분의 자릿수\n",
        "- FLOOR( ): 내림\n",
        "- CEIL( ): 올림\n",
        "- ROUND( ): 반올림\n",
        "- SQRT( ): 양의 제곱근\n",
        "- POW( ): 첫 번째 인수로는 밑수, 두 번째 인수로는 지수를 전달하여 거듭제곱 계산\n",
        "- EXP( ): 인수로 지수를 전달받아, e의 거듭제곱을 계산\n",
        "- LOG( ): 자연로그 값을 계산\n",
        "- SIN( ): 사인값 반환\n",
        "- COS( ): 코사인값 반환\n",
        "- TAN( ): 탄젠트값 반환\n",
        "- ABS(X): 절대값을 반환\n",
        "- RAND( ): 0.0보다 크거나 같고 1보다 작은 하나의 실수를 무작위로 생성\n",
        "- NOW( ): 현재 날짜와 시간을 반환 \n",
        "- CURDATE( ): 현재 날짜를 반환\n",
        "- CURTIME( ): 현재 시간을 반환\n",
        "- DATE( ): 전달받은 값에 해당하는 날짜 정보를 반환\n",
        "- MONTH( ): 월에 해당하는 값을 반환\n",
        "- DAY( ): 일에 해당하는 값을 반환\n",
        "- HOUR( ): 시간에 해당하는 값을 반환\n",
        "- MINUTE( ): 분에 해당하는 값을 반환\n",
        "- SECOND( ): 초에 해당하는 값을 반환\n",
        "- MONTHNAME( ): 월 이름을 반환\n",
        "- DAYNAME( ): 요일 이름을 반환\n",
        "- DAYOFWEEK( ): 해당 주에서 몇 번째 날인지를 반환\n",
        "- DAYOFMONTH( ): 해당 월에서 몇 번째 날인지를 반환\n",
        "- DAYOFYEAR( ): 해당 연도에서 몇 번째 날인지를 반환\n",
        "- DATE_FORMAT( ): 전달받은 형식에 맞춰 날짜, 시간 정보를 문자열로 반환\n",
        "\n",
        "> MySQL 고급  \n",
        "- CREATE TABLE AS SELECT: 테이블 생성\n",
        "- CREATE DATABASE: 새로운 DB를 생성\n",
        "-"
      ]
    },
    {
      "cell_type": "code",
      "metadata": {
        "id": "etGj6niGRBeJ",
        "colab_type": "code",
        "colab": {}
      },
      "source": [
        "# CREATE DATABASE\n",
        "CREATE DATABASE hyun;\n",
        "\n",
        "USE hyun;"
      ],
      "execution_count": 0,
      "outputs": []
    },
    {
      "cell_type": "code",
      "metadata": {
        "id": "nwgiaginQvmq",
        "colab_type": "code",
        "colab": {}
      },
      "source": [
        "# CREATE TABLE AS SELECT\n",
        "CREATE TABLE city2 AS SELECT * FROM city;"
      ],
      "execution_count": 0,
      "outputs": []
    },
    {
      "cell_type": "code",
      "metadata": {
        "id": "qCTdYwLkQb_S",
        "colab_type": "code",
        "colab": {}
      },
      "source": [
        "# DATE_FORMAT()\n",
        "SELECT\n",
        "DATE_FORMAT(NOW(), %D %y %a %d %m %n %j)"
      ],
      "execution_count": 0,
      "outputs": []
    },
    {
      "cell_type": "code",
      "metadata": {
        "id": "VClD5VDcPrW6",
        "colab_type": "code",
        "colab": {}
      },
      "source": [
        "# DAYOFWEEK(), DAYOFMONTH(), DAYOFYEAR()\n",
        "SELECT\n",
        "NOW(),\n",
        "DAYOFWEEK(NOW());"
      ],
      "execution_count": 0,
      "outputs": []
    },
    {
      "cell_type": "code",
      "metadata": {
        "id": "fKiqW_XsPVl5",
        "colab_type": "code",
        "colab": {}
      },
      "source": [
        "# MONTHNAME(), DAYNAME()\n",
        "SELECT\n",
        "NOW(),\n",
        "MONTHNAME(NOW()),\n",
        "DAYNAME(NOW())"
      ],
      "execution_count": 0,
      "outputs": []
    },
    {
      "cell_type": "code",
      "metadata": {
        "id": "j5Vd8RxsOxAH",
        "colab_type": "code",
        "colab": {}
      },
      "source": [
        "# DATE(), MONTH(), DAY(), HOUR(), MINUTE(), SECOND()\n",
        "SELECT\n",
        "NOW(),\n",
        "DATE(NOW()),\n",
        "MONTH(NOW()),\n",
        "DAY(NOW()),\n",
        "HOUR(NOW()),\n",
        "MINUTE(NOW()),\n",
        "SECOND(NOW())\n"
      ],
      "execution_count": 0,
      "outputs": []
    },
    {
      "cell_type": "code",
      "metadata": {
        "id": "e2qUqXcyOVik",
        "colab_type": "code",
        "colab": {}
      },
      "source": [
        "# ABS(), RAND()\n",
        "SELECT ABS(-3), RAND(), ROUND(RAND()*100, 0);"
      ],
      "execution_count": 0,
      "outputs": []
    },
    {
      "cell_type": "code",
      "metadata": {
        "id": "5xpJR7ezOEo3",
        "colab_type": "code",
        "colab": {}
      },
      "source": [
        "# SQRT( ), POW(), EXP(), LOG()\n",
        "SELECT SQRT(4), POW(2,3), EXP(3), LOG(3)"
      ],
      "execution_count": 0,
      "outputs": []
    },
    {
      "cell_type": "code",
      "metadata": {
        "id": "d0JnFuwLNt2U",
        "colab_type": "code",
        "colab": {}
      },
      "source": [
        "# FLORR(), CEIL(), ROUND()\n",
        "SELECT FLOOR(10.95), CEIL(10.95), ROUND(10.95)"
      ],
      "execution_count": 0,
      "outputs": []
    },
    {
      "cell_type": "code",
      "metadata": {
        "id": "F5IWAYCRNdkM",
        "colab_type": "code",
        "colab": {}
      },
      "source": [
        "# format\n",
        "SELECT FORMAT(123123123123.123123123, 3);"
      ],
      "execution_count": 0,
      "outputs": []
    },
    {
      "cell_type": "code",
      "metadata": {
        "id": "QKmXNZjDYFbY",
        "colab_type": "code",
        "colab": {}
      },
      "source": [
        "# TRIM()\n",
        "SELECT TRIM('                     MySQL         ');\n",
        "TRIM(LEADING '#' FROM '###MySQL###').\n",
        "TRIM(TRAILING '#' FROM'###MySQL###');"
      ],
      "execution_count": 0,
      "outputs": []
    },
    {
      "cell_type": "code",
      "metadata": {
        "id": "n8lMsI5MXr2l",
        "colab_type": "code",
        "colab": {}
      },
      "source": [
        "# REPLACE()\n",
        "SELECT REPLACE('MSSQL', 'MS', 'MY');"
      ],
      "execution_count": 0,
      "outputs": []
    },
    {
      "cell_type": "code",
      "metadata": {
        "id": "n4F1iLXbXhZO",
        "colab_type": "code",
        "colab": {}
      },
      "source": [
        "# LOWER(), UPPER()\n",
        "SELECT\n",
        "LOWER('mYSQL ISA CDLSLDKCM ALSCKMDLS CLSMDCKL KLC')\n",
        "UPPER('mYSQL ISA CDLSLDKCM ALSCKMDLS CLSMDCKL KLC')"
      ],
      "execution_count": 0,
      "outputs": []
    },
    {
      "cell_type": "code",
      "metadata": {
        "id": "dGGH6u2XXS-x",
        "colab_type": "code",
        "colab": {}
      },
      "source": [
        "# LEFT(), RIGHT()\n",
        "SELECT\n",
        "LEFT('mYSQL ISA CDLSLDKCM ALSCKMDLS CLSMDCKL KLC', 5)\n",
        "RIGHT('mYSQL ISA CDLSLDKCM ALSCKMDLS CLSMDCKL KLC', 6)"
      ],
      "execution_count": 0,
      "outputs": []
    },
    {
      "cell_type": "code",
      "metadata": {
        "id": "e4A3g-sDXEe2",
        "colab_type": "code",
        "colab": {}
      },
      "source": [
        "# LOCATE()\n",
        "SELECT LOCATE('abc', 'abcdkcslkdfkladf')"
      ],
      "execution_count": 0,
      "outputs": []
    },
    {
      "cell_type": "code",
      "metadata": {
        "id": "ezj1NDoSWxP8",
        "colab_type": "code",
        "colab": {}
      },
      "source": [
        "# concat 예시\n",
        "SELECT CONCAT('My', 'sql OP'，'ENG)"
      ],
      "execution_count": 0,
      "outputs": []
    },
    {
      "cell_type": "code",
      "metadata": {
        "id": "YY711TA5Wn5t",
        "colab_type": "code",
        "colab": {}
      },
      "source": [
        "# LENGTH()\n",
        "SELECT LENGTH('alskdjf)"
      ],
      "execution_count": 0,
      "outputs": []
    },
    {
      "cell_type": "code",
      "metadata": {
        "id": "ArE-7h6lWKqQ",
        "colab_type": "code",
        "colab": {}
      },
      "source": [
        "# JOIN 예시\n",
        "# citry, country, countrylanguage 테이블 3개를 join 하기\n",
        "SELECT *\n",
        "FROM city\n",
        "JOIN country ON city.CountryCode = country.Code\n",
        "JOIN countrylanguage ON city.CountryCode = countrylanguage.CountryCode"
      ],
      "execution_count": 0,
      "outputs": []
    },
    {
      "cell_type": "code",
      "metadata": {
        "id": "D3zJnCZSVNi4",
        "colab_type": "code",
        "colab": {}
      },
      "source": [
        "# JOIN\n",
        "SELECT *\n",
        "FROM city\n",
        "JOIN country ON city.CountryCode = country.Code"
      ],
      "execution_count": 0,
      "outputs": []
    },
    {
      "cell_type": "code",
      "metadata": {
        "id": "0xd0udpdU0W4",
        "colab_type": "code",
        "colab": {}
      },
      "source": [
        "# ROLLUP\n",
        "SELECT CountryCode, Name SUM(Population)\n",
        "FROM city\n",
        "GROUP BY CountryCode, Name WITH ROLLUP"
      ],
      "execution_count": 0,
      "outputs": []
    },
    {
      "cell_type": "code",
      "metadata": {
        "id": "OTCJD3I9UEwz",
        "colab_type": "code",
        "colab": {}
      },
      "source": [
        "# having\n",
        "SELECT CoutnryCode, MAX(Populiation)\n",
        "FROM city\n",
        "GROUP BY CountryCode\n",
        "HAVING MAX(Population) > 8000000"
      ],
      "execution_count": 0,
      "outputs": []
    },
    {
      "cell_type": "code",
      "metadata": {
        "id": "xYQEpNcjTvze",
        "colab_type": "code",
        "colab": {}
      },
      "source": [
        "# city에서 population의 평균 구하기\n",
        "SELECT ag(Population)\n",
        "FROM city"
      ],
      "execution_count": 0,
      "outputs": []
    },
    {
      "cell_type": "code",
      "metadata": {
        "id": "EFEmcfBWTUKe",
        "colab_type": "code",
        "colab": {}
      },
      "source": [
        "# groupby as\n",
        "SELECT CountryCode, avg(Population) AS 'Average'\n",
        "FROM city\n",
        "GROUP BY CountryCode"
      ],
      "execution_count": 0,
      "outputs": []
    },
    {
      "cell_type": "code",
      "metadata": {
        "id": "oRNsRQD1S8UV",
        "colab_type": "code",
        "colab": {}
      },
      "source": [
        "# groupby\n",
        "SELECT CountryCode, Max(Population)\n",
        "FROM city\n",
        "GROUP BY CountryCode"
      ],
      "execution_count": 0,
      "outputs": []
    },
    {
      "cell_type": "code",
      "metadata": {
        "id": "kPVDI-hDSePJ",
        "colab_type": "code",
        "colab": {}
      },
      "source": [
        "# Limit\n",
        "# 상위 10개만 보기\n",
        "SELECT *\n",
        "FROM city\n",
        "ORDER BY Population DESC\n",
        "LIMIT 10"
      ],
      "execution_count": 0,
      "outputs": []
    },
    {
      "cell_type": "code",
      "metadata": {
        "id": "uzeb88JISO5T",
        "colab_type": "code",
        "colab": {}
      },
      "source": [
        "# distinct\n",
        "SELECT DISTINCT CountryCode\n",
        "FROM city;"
      ],
      "execution_count": 0,
      "outputs": []
    },
    {
      "cell_type": "code",
      "metadata": {
        "id": "KpNDiNZ1R4oU",
        "colab_type": "code",
        "colab": {}
      },
      "source": [
        "# 국가 면적 크기로 내림차순하기\n",
        "SELECT *\n",
        "FROM country\n",
        "ORDER BY SurfaceArea DESC;"
      ],
      "execution_count": 0,
      "outputs": []
    },
    {
      "cell_type": "code",
      "metadata": {
        "id": "85Wd5oGeR1yN",
        "colab_type": "code",
        "colab": {}
      },
      "source": [
        "# 한국에 있는 도시들 인구수로 내림차순하기\n",
        "SELECT *\n",
        "FROM city\n",
        "WHERE CountryCode = 'KOR'\n",
        "ORDER BY Population DESC"
      ],
      "execution_count": 0,
      "outputs": []
    },
    {
      "cell_type": "code",
      "metadata": {
        "id": "z4ug7_BgRIrM",
        "colab_type": "code",
        "colab": {}
      },
      "source": [
        "# order by\n",
        "# decending order\n",
        "SELECT *\n",
        "FROM city\n",
        "ORDER BY Population DESC\n",
        "\n",
        "# ascending order\n",
        "SELECT *\n",
        "FROM city\n",
        "ORDER BY Population \n",
        "\n",
        "# multiple order by\n",
        "SELECT *\n",
        "FROM city\n",
        "ORDER BY CountryCode ASC, Population DESC"
      ],
      "execution_count": 0,
      "outputs": []
    },
    {
      "cell_type": "code",
      "metadata": {
        "id": "aOWji6bGQuun",
        "colab_type": "code",
        "colab": {}
      },
      "source": [
        "# Sub query ANY\n",
        "SELECT *\n",
        "FROM city\n",
        "WHERE Population > ANY ( select Population\n",
        "                        FROM city\n",
        "                        WHERE District = 'New York')"
      ],
      "execution_count": 0,
      "outputs": []
    },
    {
      "cell_type": "code",
      "metadata": {
        "id": "ZGd9inRsQXeE",
        "colab_type": "code",
        "colab": {}
      },
      "source": [
        "# Sub query\n",
        "SELECT *\n",
        "FROM city\n",
        "WHERE CountryCode = ( SELECT CountryCode\n",
        "                     FROM city\n",
        "                     WHERE Name = 'Seoul');"
      ],
      "execution_count": 0,
      "outputs": []
    },
    {
      "cell_type": "code",
      "metadata": {
        "id": "p7DEBgxuOd8a",
        "colab_type": "code",
        "colab": {}
      },
      "source": [
        "# select 예시\n",
        "SELECT * FROM city;    # city의 전체 row를 보여줘라\n",
        "SELECT Name FROM city;\n",
        "SELECT Name, Population FROM city;"
      ],
      "execution_count": 0,
      "outputs": []
    },
    {
      "cell_type": "code",
      "metadata": {
        "id": "6wCdo0euP2qL",
        "colab_type": "code",
        "colab": {}
      },
      "source": [
        "# select where 예시\n",
        "SELECT *\n",
        "FROM city\n",
        "WHERE Population > 8000000\n",
        "\n",
        "# 이렇게 해도 됨\n",
        "SELECT * FROM city WEHRE Population > 8000000"
      ],
      "execution_count": 0,
      "outputs": []
    },
    {
      "cell_type": "code",
      "metadata": {
        "id": "24c6VwA5Qp36",
        "colab_type": "code",
        "colab": {}
      },
      "source": [
        "# select, where, 관계연산자 예시\n",
        "## 예시1\n",
        "SELECT *\n",
        "FROM city\n",
        "WHERE Population < 8000000\n",
        "AND Population > 70000000\n",
        "\n",
        "## 예시2\n",
        "SELECT *\n",
        "FROM city\n",
        "WHERE CountryCode = 'KOR'\n",
        "AND Population >= 1000000"
      ],
      "execution_count": 0,
      "outputs": []
    },
    {
      "cell_type": "code",
      "metadata": {
        "id": "3k9e3bceSdBV",
        "colab_type": "code",
        "colab": {}
      },
      "source": [
        "# select, in 예시\n",
        "SELECT *\n",
        "FROM city\n",
        "WHERE name IN('Seoul', 'New York', 'Tokyo')"
      ],
      "execution_count": 0,
      "outputs": []
    },
    {
      "cell_type": "code",
      "metadata": {
        "id": "8QFXFlcHTmI4",
        "colab_type": "code",
        "colab": {}
      },
      "source": [
        "# select, like 예시\n",
        "## 예시1\n",
        "WHERE *\n",
        "FROM city\n",
        "WHERE CountryCode LIKE 'KO_'\n",
        "\n",
        "## 예시2\n",
        "SELECT *\n",
        "FROM city\n",
        "WHERE CountryCode LIKE 'Tel %'"
      ],
      "execution_count": 0,
      "outputs": []
    }
  ]
}