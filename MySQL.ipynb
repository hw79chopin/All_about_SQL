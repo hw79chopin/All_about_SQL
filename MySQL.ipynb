{
  "nbformat": 4,
  "nbformat_minor": 0,
  "metadata": {
    "colab": {
      "name": "(원본) SQL",
      "provenance": [],
      "collapsed_sections": [
        "1Hs6GeIbHuu6",
        "JxORC3PhrzhW",
        "jZuEq49I0KxE",
        "h4DVjSOF0ibn"
      ]
    },
    "kernelspec": {
      "name": "python3",
      "display_name": "Python 3"
    }
  },
  "cells": [
    {
      "cell_type": "markdown",
      "metadata": {
        "id": "1Hs6GeIbHuu6",
        "colab_type": "text"
      },
      "source": [
        "# SQL 유튜브"
      ]
    },
    {
      "cell_type": "markdown",
      "metadata": {
        "id": "owa6hWWRLvsB",
        "colab_type": "text"
      },
      "source": [
        "1. DML(Data Manipulation language)\n",
        "\n",
        "2. DDL(Data Definition language)\n",
        "\n",
        "3. DCL(Data Control language)"
      ]
    },
    {
      "cell_type": "markdown",
      "metadata": {
        "id": "PAqojX3pMFUV",
        "colab_type": "text"
      },
      "source": [
        "## 실행언어 모음\n",
        "- block을 씌우면 부분 실행 가능\n",
        "- **;**: SQL query가 끝났다는 표시\n",
        "- * : 모든 것(all)을 표현할 때 사용\n",
        "- **SHOW databases** : MySQL서버에 Database가 뭐가 있는지 보여달라는 명령\n",
        "- **USE 'database name'** : 사용할 데이터베이스 지정. 해당 database를 사용하게끔 하는 명령. 더블클릭으로도 가능 (두꺼운 글씨로 바뀌면 성공한 것)\n",
        "- **SHOW table** : 데이터베이스의 테이블 이름 보기\n",
        "- **SHOW table STATUS** : 데이터베이스의 테이블 정보 조회\n",
        "- **DESCRIBE 'table name'** : 데이터 table에 무슨 열이 있는지 조회  \n",
        "  **DESC** : 여기까지만 써도 됨\n",
        "\n",
        "## Select\n",
        "- **SELECT** : 데이터를 가져오는 구문. 데이터베이스 내 테이블에서 원하는 정보를 추출\n",
        "  > `select의 구문 형식`  \n",
        "   SELECT select_expr\n",
        "    - [FROM table_references]    # column을 보고 싶을 때\n",
        "    - [WHERE where_condition]   # row를 보고 싶을 때\n",
        "    - [GROUP BY {col_name | expr | position}]\n",
        "    - [HAVING where_condition]\n",
        "    - [ORDER BY {col_name | expr | position}]\n",
        "- **SELECT 'col_names' FROM 'table_name'** : table에서 원하는 col만 불러오기\n",
        "- **SELECT 'col_names' FROM 'table_name'** where '조건' : table에서 원하는 col 중에서 원하는 row를 뽑기  \n",
        "  **여기에** AND, OR 등의 관계 연산자들 사용가능!\n",
        "- **SELECT * FROM 'table_name' WHERE 'column name' BETWEEN 'condition1' AND 'condition2** : between 문을 쓰는 방법\n",
        "\n",
        "- **IN** : 이산적인 값의 조건에서 사용가능\n",
        "- **BETWEEN**: 조건을 걸어줄 때 편리\n",
        "- **WHERE**: 원하는 조건에 따라 데이터 선택 가능\n",
        "- **LIKE**: 문자열의 내용 검색. \n",
        "  - 문자 뒤에 %: 무엇이든 허용\n",
        "  - _: 한 글자만 매치하기 위함\n",
        "- SUB QUERY: 쿼리문 안에 또 쿼리문이 들어 있는 것\n",
        "  - ANY: sub query의 결과 중에 한 가지만 만족해도 가능\n",
        "  - ALL: sub query의 결과를 모두 만족시켜야 함\n",
        "- ORDER BY: 결과가 출력되는 순서를 조절하는 구문. Ascending이 default\n",
        "- DISTINCT: 중복된 것을 1개씩만 보여주면서 출력, 테이블의 크기가 클수록 효율적\n",
        "- LIMIT: 출력 개수를 제한. 상위의 N개만 출력하는 'limit n' 구문\n",
        "- GROUP BY\n",
        ": 그룹을 묶어주는 역할\n",
        "  - avg( ): 평균\n",
        "  - min( ): 최소값\n",
        "  - max( ): 최대값\n",
        "  - count( ): 행의 개수\n",
        "  - count( distinct ): 중복 제외된 행의 개수\n",
        "  - stdev( ): 표준 편차\n",
        "  - variance( ): 분산\n",
        "  - as 'column name': as를 붙이면 뒤에 원하는 column 이름이 옴\n",
        "- HAVING: WHERE과 비슷한 개념으로 조건 제한. 반드시 group by절 다음에 나와야 함\n",
        "- ROLLUP: 총합 또는 중간합계가 필요할 경우에 사용. GROUPY BY절과 함께 WITH ROLLUP문 사용\n",
        "- JOIN: 데이터베이스 내의 여러 테이블에서 가져온 레코드를 조합하여 하나의 테이블이나 결과 집합으로 표현\n",
        "\n",
        "> MySQL 내장 함수\n",
        "- LENGTH( ): 전달받은 문자열의 길이를 반환\n",
        "- CONCAT( ): 전달받은 문자열을 모두 결합하여 하나의 문자열로 반환\n",
        "- LOCATE( ): 문자열 내에서 찾는 문자열이 처음으로 나타나는 위치를 찾아서 해당 위치를 반환. 찾는 문자열이 존재하지 않으면 0을 반환. MySQL은 문자열의 시작 index를 1부터 계산\n",
        "- LEFT( ): 문자열의 왼쪽부터 지정한 개수만큼의 문자를 반환\n",
        "- RIGHT( ): 문자열의 오른쪽부터 지정한 개수만큼의 문자를 반환\n",
        "- LOWER( ): 문자열을 모두 소문자로 변경\n",
        "- UPPER( ): 문자열을 모두 대문자로 변경\n",
        "- REPLACE( ): 문자열에서 특정 문자열을 대체 문자열로 교체\n",
        "- TRIM( ): 문자열의 앞 or 뒤 or 양쪽 모두에 있는 특정 문자를 제거  \n",
        "  > 사용가능한 지정자\n",
        "  - BOTH: 전달받은 문자열의 양 끝에 존재하는 특정 문자를 제거(Default)\n",
        "  - LEADING: 전달받은 문자열 앞에 존재하는 특정 문자를 제거\n",
        "  - TRAILING: 전달받은 문자열 뒤에 존재하는 특정 문자를 제거\n",
        "- FORMAT( ): 숫자 타입의 데이터를 세 자리마다 쉼표를 사용하는 형식으로 변한. 반환되는 데이터는 str, 두 번째 인수는 반올림할 소수 부분의 자릿수\n",
        "- FLOOR( ): 내림\n",
        "- CEIL( ): 올림\n",
        "- ROUND( ): 반올림\n",
        "- SQRT( ): 양의 제곱근\n",
        "- POW( ): 첫 번째 인수로는 밑수, 두 번째 인수로는 지수를 전달하여 거듭제곱 계산\n",
        "- EXP( ): 인수로 지수를 전달받아, e의 거듭제곱을 계산\n",
        "- LOG( ): 자연로그 값을 계산\n",
        "- SIN( ): 사인값 반환\n",
        "- COS( ): 코사인값 반환\n",
        "- TAN( ): 탄젠트값 반환\n",
        "- ABS(X): 절대값을 반환\n",
        "- RAND( ): 0.0보다 크거나 같고 1보다 작은 하나의 실수를 무작위로 생성\n",
        "- NOW( ): 현재 날짜와 시간을 반환 \n",
        "- CURDATE( ): 현재 날짜를 반환\n",
        "- CURTIME( ): 현재 시간을 반환\n",
        "- DATE( ): 전달받은 값에 해당하는 날짜 정보를 반환\n",
        "- MONTH( ): 월에 해당하는 값을 반환\n",
        "- DAY( ): 일에 해당하는 값을 반환\n",
        "- HOUR( ): 시간에 해당하는 값을 반환\n",
        "- MINUTE( ): 분에 해당하는 값을 반환\n",
        "- SECOND( ): 초에 해당하는 값을 반환\n",
        "- MONTHNAME( ): 월 이름을 반환\n",
        "- DAYNAME( ): 요일 이름을 반환\n",
        "- DAYOFWEEK( ): 해당 주에서 몇 번째 날인지를 반환\n",
        "- DAYOFMONTH( ): 해당 월에서 몇 번째 날인지를 반환\n",
        "- DAYOFYEAR( ): 해당 연도에서 몇 번째 날인지를 반환\n",
        "- DATE_FORMAT( ): 전달받은 형식에 맞춰 날짜, 시간 정보를 문자열로 반환\n",
        "\n",
        "> MySQL 고급  \n",
        "- CREATE TABLE AS SELECT: 테이블 생성\n",
        "- CREATE DATABASE: 새로운 DB를 생성. USE문으로 새 DB를 사용\n",
        "- CREATE TABLE table이름 ( ): 데이터 테이블 생성\n",
        "- ALTER TABLE + ADD: 테이블에 column 추가\n",
        "- ALTER TABLE + MODIFY: 테이블의 column 타입을 변경\n",
        "- ALTER TABLE + DROP: 테이블의 column 제거\n",
        "- CREATE INDEX: 인덱스를 생성\n",
        "- SHOW INDEX: 인덱스 정보 보기\n",
        "- CREATE UNIQUE INDEX: 중복값을 허용하지 않는 인덱스\n",
        "- FULLTEXT INDEX: 일반적인 인덱스와는 달리 매우 빠르게 테이블의 모든 텍스트 컬럼을 검색\n",
        "- ALTER / DROP INDEX: 인덱스 삭제하기\n",
        "\n",
        "> VIEW\n",
        "- DB에 존재하는 가상 테이블\n",
        "- 실제로 데이터를 저장하지는 않음\n",
        "- 여러 table이나 view를 하나의 table처럼 볼 수 있음\n",
        "- 장점\n",
        "  - 필요한 column만 보여줄 수 있음\n",
        "  - 복잡한 query를 단순화가능\n",
        "  - query 재사용 가능\n",
        "- 단점\n",
        "  - 한 번 정의한 view는 변경불가\n",
        "  - 삽입, 삭제, 갱신 작업에 많은 제한이 있고\n",
        "  - 고유의 index를 가질 수 없다.\n",
        "- CREATE VIEW 이름 AS: 이렇게 View를 생성\n",
        "- ALTER VIEW: View를 수정\n",
        "- DROP VIEW: View를 삭제\n",
        "\n",
        "- INSERT: 테이블 이름 다음에 나오는 열 생략 가능. 생략할 경우에 VALUE 다음에 나오는 값들의 순서 및 개수가 테이블이 정의된 열 순서 및 개수와 동일해야 함\n",
        "- INSERT INTO SELECT: test 테이블에 있는 내용을 test2 테이블에 삽입\n",
        "- UPDATE: 기존에 입력되어 있는 값을 변경하는 구문. WHERE절 생략이 되나 테이블 전체 행의 내용이 변경된다.\n",
        "- DELETE: 행 단위로 데이터를 삭제. 원하는 데이터만 지울 수 있고 되돌릴 수도 있음\n",
        "- TRUNCATE: 삭제 후 되돌릴 수 없음\n",
        "- DROP TABLE: 테이블 전체를 삭제, 공간, 객체를 삭제. 삭제 후 복구 불가\n",
        "- DROP DATABASE: 해당 데이터베이스를 삭제"
      ]
    },
    {
      "cell_type": "code",
      "metadata": {
        "id": "MD0s2LFmQEk5",
        "colab_type": "code",
        "colab": {}
      },
      "source": [
        "## DROP DATABASE 예시\n",
        "DROP DATABASE hyun;"
      ],
      "execution_count": 0,
      "outputs": []
    },
    {
      "cell_type": "code",
      "metadata": {
        "id": "kr5DJjEaP-fW",
        "colab_type": "code",
        "colab": {}
      },
      "source": [
        "## DROP TABLE 예시\n",
        "DROP TABLE test"
      ],
      "execution_count": 0,
      "outputs": []
    },
    {
      "cell_type": "code",
      "metadata": {
        "id": "HfWTrSahPmTs",
        "colab_type": "code",
        "colab": {}
      },
      "source": [
        "## TRUNCATE 예시\n",
        "TRUNCATE TABLE test;"
      ],
      "execution_count": 0,
      "outputs": []
    },
    {
      "cell_type": "code",
      "metadata": {
        "id": "HkC2qo8DPV_D",
        "colab_type": "code",
        "colab": {}
      },
      "source": [
        "## DELETE 예시\n",
        "DELETE FROM test\n",
        "WHERE id =1;"
      ],
      "execution_count": 0,
      "outputs": []
    },
    {
      "cell_type": "code",
      "metadata": {
        "id": "W3tx9F3VPCUD",
        "colab_type": "code",
        "colab": {}
      },
      "source": [
        "## UPDATE 예시\n",
        "UPDATE test\n",
        "SET col1 = 1, col2=1.0, col3='test'\n",
        "WHERE id =1"
      ],
      "execution_count": 0,
      "outputs": []
    },
    {
      "cell_type": "code",
      "metadata": {
        "id": "xiFbCdJZOzUI",
        "colab_type": "code",
        "colab": {}
      },
      "source": [
        "## INSERT INTO SELECT 예씨\n",
        "INSERT INTO test2 SELCT * FROM test;"
      ],
      "execution_count": 0,
      "outputs": []
    },
    {
      "cell_type": "code",
      "metadata": {
        "id": "vbGj5H8qOdPT",
        "colab_type": "code",
        "colab": {}
      },
      "source": [
        "## INSERT 예시\n",
        "INSERT INTO test\n",
        "VALUE(1, 123, 1.1, \"Test\");\n",
        "\n",
        "SELECT * FROM test;"
      ],
      "execution_count": 0,
      "outputs": []
    },
    {
      "cell_type": "code",
      "metadata": {
        "id": "xmHKEajhNkYK",
        "colab_type": "code",
        "colab": {}
      },
      "source": [
        "## DROP VIEW\n",
        "DROP VIEW testView "
      ],
      "execution_count": 0,
      "outputs": []
    },
    {
      "cell_type": "code",
      "metadata": {
        "id": "00kvpbWlNZdG",
        "colab_type": "code",
        "colab": {}
      },
      "source": [
        "## ALTER VIEW\n",
        "ALTER VIEW testView As\n",
        "SELECT Col1, Col2, Col3\n",
        "FROM test;"
      ],
      "execution_count": 0,
      "outputs": []
    },
    {
      "cell_type": "code",
      "metadata": {
        "id": "nLY8-JG2NLBJ",
        "colab_type": "code",
        "colab": {}
      },
      "source": [
        "## CREATE VIEW 예시\n",
        "CREATE VIEW testView AS\n",
        "SELECT Col1, Col2\n",
        "FROM test;\n",
        "\n",
        "SELECT * FROM testView;"
      ],
      "execution_count": 0,
      "outputs": []
    },
    {
      "cell_type": "code",
      "metadata": {
        "id": "G8SE4NLC5Cas",
        "colab_type": "code",
        "colab": {}
      },
      "source": [
        "## DROP INDEX\n",
        "# 예시1\n",
        "ALTER TABLE test\n",
        "DROP INDEX Col3Idx;\n",
        "\n",
        "SHOW INDEX FROM test;\n",
        "\n",
        "# 예시2: 이렇게 해도 됨\n",
        "DROP INDEX Col2Idx ON test;\n",
        "\n",
        "SHOW INDEX FROM test;"
      ],
      "execution_count": 0,
      "outputs": []
    },
    {
      "cell_type": "code",
      "metadata": {
        "id": "lsaldYLK4xL2",
        "colab_type": "code",
        "colab": {}
      },
      "source": [
        "# FULLTEXT INDEX\n",
        "ALTER TABLE test\n",
        "ADD FULLTEXT Col3Idx(col3);\n",
        "\n",
        "SHOW INDEX FROM test;"
      ],
      "execution_count": 0,
      "outputs": []
    },
    {
      "cell_type": "code",
      "metadata": {
        "id": "xqcszyGx4hxZ",
        "colab_type": "code",
        "colab": {}
      },
      "source": [
        "# CREATE UNIQUE\n",
        "CREATE UNIQUE INDEX Col2Idx\n",
        "ON test(col2);\n",
        "\n",
        "SHOW INDEX FROM test;"
      ],
      "execution_count": 0,
      "outputs": []
    },
    {
      "cell_type": "code",
      "metadata": {
        "id": "yKDa3uVQ4OmE",
        "colab_type": "code",
        "colab": {}
      },
      "source": [
        "# SHOW INDEX\n",
        "SHOW INDEX FROM test;"
      ],
      "execution_count": 0,
      "outputs": []
    },
    {
      "cell_type": "code",
      "metadata": {
        "id": "1W-IUSdV4GjY",
        "colab_type": "code",
        "colab": {}
      },
      "source": [
        "# CREATE INDEX\n",
        "CREATE INDEX Col1Idx\n",
        "ON test (col1)"
      ],
      "execution_count": 0,
      "outputs": []
    },
    {
      "cell_type": "code",
      "metadata": {
        "id": "Ghdv2Q673tgD",
        "colab_type": "code",
        "colab": {}
      },
      "source": [
        "# ALTER TABLE, DROP\n",
        "ALTER TABLE test2\n",
        "DROP col4;"
      ],
      "execution_count": 0,
      "outputs": []
    },
    {
      "cell_type": "code",
      "metadata": {
        "id": "3VbJTlJ53cUB",
        "colab_type": "code",
        "colab": {}
      },
      "source": [
        "# ALTER TABLE MODIFY\n",
        "ALTER TABLE test2\n",
        "MODIFY col4 VARCHAR(20) NULL;"
      ],
      "execution_count": 0,
      "outputs": []
    },
    {
      "cell_type": "code",
      "metadata": {
        "id": "NpeQnuGs3K78",
        "colab_type": "code",
        "colab": {}
      },
      "source": [
        "# ALTER TABLE\n",
        "ALTER TABLE test2\n",
        "ADD col4 INT NULL;"
      ],
      "execution_count": 0,
      "outputs": []
    },
    {
      "cell_type": "code",
      "metadata": {
        "id": "-ozOjAFN2yXi",
        "colab_type": "code",
        "colab": {}
      },
      "source": [
        "# CREATE TABLE\n",
        "CREATE TABLE test2 (\n",
        "    id INT NOT NULL PRIMARY KEY,\n",
        "    col1 INT NULL,\n",
        "    col2 FLOAT NULL,\n",
        "    col3 VARCHAR(45) NU\n",
        "）"
      ],
      "execution_count": 0,
      "outputs": []
    },
    {
      "cell_type": "code",
      "metadata": {
        "id": "etGj6niGRBeJ",
        "colab_type": "code",
        "colab": {}
      },
      "source": [
        "# CREATE DATABASE\n",
        "CREATE DATABASE hyun;\n",
        "\n",
        "USE hyun;"
      ],
      "execution_count": 0,
      "outputs": []
    },
    {
      "cell_type": "code",
      "metadata": {
        "id": "nwgiaginQvmq",
        "colab_type": "code",
        "colab": {}
      },
      "source": [
        "# CREATE TABLE AS SELECT\n",
        "CREATE TABLE city2 AS SELECT * FROM city;"
      ],
      "execution_count": 0,
      "outputs": []
    },
    {
      "cell_type": "code",
      "metadata": {
        "id": "qCTdYwLkQb_S",
        "colab_type": "code",
        "colab": {}
      },
      "source": [
        "# DATE_FORMAT()\n",
        "SELECT\n",
        "DATE_FORMAT(NOW(), %D %y %a %d %m %n %j)"
      ],
      "execution_count": 0,
      "outputs": []
    },
    {
      "cell_type": "code",
      "metadata": {
        "id": "VClD5VDcPrW6",
        "colab_type": "code",
        "colab": {}
      },
      "source": [
        "# DAYOFWEEK(), DAYOFMONTH(), DAYOFYEAR()\n",
        "SELECT\n",
        "NOW(),\n",
        "DAYOFWEEK(NOW());"
      ],
      "execution_count": 0,
      "outputs": []
    },
    {
      "cell_type": "code",
      "metadata": {
        "id": "fKiqW_XsPVl5",
        "colab_type": "code",
        "colab": {}
      },
      "source": [
        "# MONTHNAME(), DAYNAME()\n",
        "SELECT\n",
        "NOW(),\n",
        "MONTHNAME(NOW()),\n",
        "DAYNAME(NOW())"
      ],
      "execution_count": 0,
      "outputs": []
    },
    {
      "cell_type": "code",
      "metadata": {
        "id": "j5Vd8RxsOxAH",
        "colab_type": "code",
        "colab": {}
      },
      "source": [
        "# DATE(), MONTH(), DAY(), HOUR(), MINUTE(), SECOND()\n",
        "SELECT\n",
        "NOW(),\n",
        "DATE(NOW()),\n",
        "MONTH(NOW()),\n",
        "DAY(NOW()),\n",
        "HOUR(NOW()),\n",
        "MINUTE(NOW()),\n",
        "SECOND(NOW())\n"
      ],
      "execution_count": 0,
      "outputs": []
    },
    {
      "cell_type": "code",
      "metadata": {
        "id": "e2qUqXcyOVik",
        "colab_type": "code",
        "colab": {}
      },
      "source": [
        "# ABS(), RAND()\n",
        "SELECT ABS(-3), RAND(), ROUND(RAND()*100, 0);"
      ],
      "execution_count": 0,
      "outputs": []
    },
    {
      "cell_type": "code",
      "metadata": {
        "id": "5xpJR7ezOEo3",
        "colab_type": "code",
        "colab": {}
      },
      "source": [
        "# SQRT( ), POW(), EXP(), LOG()\n",
        "SELECT SQRT(4), POW(2,3), EXP(3), LOG(3)"
      ],
      "execution_count": 0,
      "outputs": []
    },
    {
      "cell_type": "code",
      "metadata": {
        "id": "d0JnFuwLNt2U",
        "colab_type": "code",
        "colab": {}
      },
      "source": [
        "# FLORR(), CEIL(), ROUND()\n",
        "SELECT FLOOR(10.95), CEIL(10.95), ROUND(10.95)"
      ],
      "execution_count": 0,
      "outputs": []
    },
    {
      "cell_type": "code",
      "metadata": {
        "id": "F5IWAYCRNdkM",
        "colab_type": "code",
        "colab": {}
      },
      "source": [
        "# format\n",
        "SELECT FORMAT(123123123123.123123123, 3);"
      ],
      "execution_count": 0,
      "outputs": []
    },
    {
      "cell_type": "code",
      "metadata": {
        "id": "QKmXNZjDYFbY",
        "colab_type": "code",
        "colab": {}
      },
      "source": [
        "# TRIM()\n",
        "SELECT TRIM('                     MySQL         ');\n",
        "TRIM(LEADING '#' FROM '###MySQL###').\n",
        "TRIM(TRAILING '#' FROM'###MySQL###');"
      ],
      "execution_count": 0,
      "outputs": []
    },
    {
      "cell_type": "code",
      "metadata": {
        "id": "n8lMsI5MXr2l",
        "colab_type": "code",
        "colab": {}
      },
      "source": [
        "# REPLACE()\n",
        "SELECT REPLACE('MSSQL', 'MS', 'MY');"
      ],
      "execution_count": 0,
      "outputs": []
    },
    {
      "cell_type": "code",
      "metadata": {
        "id": "n4F1iLXbXhZO",
        "colab_type": "code",
        "colab": {}
      },
      "source": [
        "# LOWER(), UPPER()\n",
        "SELECT\n",
        "LOWER('mYSQL ISA CDLSLDKCM ALSCKMDLS CLSMDCKL KLC')\n",
        "UPPER('mYSQL ISA CDLSLDKCM ALSCKMDLS CLSMDCKL KLC')"
      ],
      "execution_count": 0,
      "outputs": []
    },
    {
      "cell_type": "code",
      "metadata": {
        "id": "dGGH6u2XXS-x",
        "colab_type": "code",
        "colab": {}
      },
      "source": [
        "# LEFT(), RIGHT()\n",
        "SELECT\n",
        "LEFT('mYSQL ISA CDLSLDKCM ALSCKMDLS CLSMDCKL KLC', 5)\n",
        "RIGHT('mYSQL ISA CDLSLDKCM ALSCKMDLS CLSMDCKL KLC', 6)"
      ],
      "execution_count": 0,
      "outputs": []
    },
    {
      "cell_type": "code",
      "metadata": {
        "id": "e4A3g-sDXEe2",
        "colab_type": "code",
        "colab": {}
      },
      "source": [
        "# LOCATE()\n",
        "SELECT LOCATE('abc', 'abcdkcslkdfkladf')"
      ],
      "execution_count": 0,
      "outputs": []
    },
    {
      "cell_type": "code",
      "metadata": {
        "id": "ezj1NDoSWxP8",
        "colab_type": "code",
        "colab": {}
      },
      "source": [
        "# concat 예시\n",
        "SELECT CONCAT('My', 'sql OP'，'ENG)"
      ],
      "execution_count": 0,
      "outputs": []
    },
    {
      "cell_type": "code",
      "metadata": {
        "id": "YY711TA5Wn5t",
        "colab_type": "code",
        "colab": {}
      },
      "source": [
        "# LENGTH()\n",
        "SELECT LENGTH('alskdjf)"
      ],
      "execution_count": 0,
      "outputs": []
    },
    {
      "cell_type": "code",
      "metadata": {
        "id": "ArE-7h6lWKqQ",
        "colab_type": "code",
        "colab": {}
      },
      "source": [
        "# JOIN 예시\n",
        "# citry, country, countrylanguage 테이블 3개를 join 하기\n",
        "SELECT *\n",
        "FROM city\n",
        "JOIN country ON city.CountryCode = country.Code\n",
        "JOIN countrylanguage ON city.CountryCode = countrylanguage.CountryCode"
      ],
      "execution_count": 0,
      "outputs": []
    },
    {
      "cell_type": "code",
      "metadata": {
        "id": "D3zJnCZSVNi4",
        "colab_type": "code",
        "colab": {}
      },
      "source": [
        "# JOIN\n",
        "SELECT *\n",
        "FROM city\n",
        "JOIN country ON city.CountryCode = country.Code"
      ],
      "execution_count": 0,
      "outputs": []
    },
    {
      "cell_type": "code",
      "metadata": {
        "id": "0xd0udpdU0W4",
        "colab_type": "code",
        "colab": {}
      },
      "source": [
        "# ROLLUP\n",
        "SELECT CountryCode, Name SUM(Population)\n",
        "FROM city\n",
        "GROUP BY CountryCode, Name WITH ROLLUP"
      ],
      "execution_count": 0,
      "outputs": []
    },
    {
      "cell_type": "code",
      "metadata": {
        "id": "OTCJD3I9UEwz",
        "colab_type": "code",
        "colab": {}
      },
      "source": [
        "# having\n",
        "SELECT CoutnryCode, MAX(Populiation)\n",
        "FROM city\n",
        "GROUP BY CountryCode\n",
        "HAVING MAX(Population) > 8000000"
      ],
      "execution_count": 0,
      "outputs": []
    },
    {
      "cell_type": "code",
      "metadata": {
        "id": "xYQEpNcjTvze",
        "colab_type": "code",
        "colab": {}
      },
      "source": [
        "# city에서 population의 평균 구하기\n",
        "SELECT ag(Population)\n",
        "FROM city"
      ],
      "execution_count": 0,
      "outputs": []
    },
    {
      "cell_type": "code",
      "metadata": {
        "id": "EFEmcfBWTUKe",
        "colab_type": "code",
        "colab": {}
      },
      "source": [
        "# groupby as\n",
        "SELECT CountryCode, avg(Population) AS 'Average'\n",
        "FROM city\n",
        "GROUP BY CountryCode"
      ],
      "execution_count": 0,
      "outputs": []
    },
    {
      "cell_type": "code",
      "metadata": {
        "id": "oRNsRQD1S8UV",
        "colab_type": "code",
        "colab": {}
      },
      "source": [
        "# groupby\n",
        "SELECT CountryCode, Max(Population)\n",
        "FROM city\n",
        "GROUP BY CountryCode"
      ],
      "execution_count": 0,
      "outputs": []
    },
    {
      "cell_type": "code",
      "metadata": {
        "id": "kPVDI-hDSePJ",
        "colab_type": "code",
        "colab": {}
      },
      "source": [
        "# Limit\n",
        "# 상위 10개만 보기\n",
        "SELECT *\n",
        "FROM city\n",
        "ORDER BY Population DESC\n",
        "LIMIT 10"
      ],
      "execution_count": 0,
      "outputs": []
    },
    {
      "cell_type": "code",
      "metadata": {
        "id": "uzeb88JISO5T",
        "colab_type": "code",
        "colab": {}
      },
      "source": [
        "# distinct\n",
        "SELECT DISTINCT CountryCode\n",
        "FROM city;"
      ],
      "execution_count": 0,
      "outputs": []
    },
    {
      "cell_type": "code",
      "metadata": {
        "id": "KpNDiNZ1R4oU",
        "colab_type": "code",
        "colab": {}
      },
      "source": [
        "# 국가 면적 크기로 내림차순하기\n",
        "SELECT *\n",
        "FROM country\n",
        "ORDER BY SurfaceArea DESC;"
      ],
      "execution_count": 0,
      "outputs": []
    },
    {
      "cell_type": "code",
      "metadata": {
        "id": "85Wd5oGeR1yN",
        "colab_type": "code",
        "colab": {}
      },
      "source": [
        "# 한국에 있는 도시들 인구수로 내림차순하기\n",
        "SELECT *\n",
        "FROM city\n",
        "WHERE CountryCode = 'KOR'\n",
        "ORDER BY Population DESC"
      ],
      "execution_count": 0,
      "outputs": []
    },
    {
      "cell_type": "code",
      "metadata": {
        "id": "z4ug7_BgRIrM",
        "colab_type": "code",
        "colab": {}
      },
      "source": [
        "# order by\n",
        "# decending order\n",
        "SELECT *\n",
        "FROM city\n",
        "ORDER BY Population DESC\n",
        "\n",
        "# ascending order\n",
        "SELECT *\n",
        "FROM city\n",
        "ORDER BY Population \n",
        "\n",
        "# multiple order by\n",
        "SELECT *\n",
        "FROM city\n",
        "ORDER BY CountryCode ASC, Population DESC"
      ],
      "execution_count": 0,
      "outputs": []
    },
    {
      "cell_type": "code",
      "metadata": {
        "id": "aOWji6bGQuun",
        "colab_type": "code",
        "colab": {}
      },
      "source": [
        "# Sub query ANY\n",
        "SELECT *\n",
        "FROM city\n",
        "WHERE Population > ANY ( select Population\n",
        "                        FROM city\n",
        "                        WHERE District = 'New York')"
      ],
      "execution_count": 0,
      "outputs": []
    },
    {
      "cell_type": "code",
      "metadata": {
        "id": "ZGd9inRsQXeE",
        "colab_type": "code",
        "colab": {}
      },
      "source": [
        "# Sub query\n",
        "SELECT *\n",
        "FROM city\n",
        "WHERE CountryCode = ( SELECT CountryCode\n",
        "                     FROM city\n",
        "                     WHERE Name = 'Seoul');"
      ],
      "execution_count": 0,
      "outputs": []
    },
    {
      "cell_type": "code",
      "metadata": {
        "id": "p7DEBgxuOd8a",
        "colab_type": "code",
        "colab": {}
      },
      "source": [
        "# select 예시\n",
        "SELECT * FROM city;    # city의 전체 row를 보여줘라\n",
        "SELECT Name FROM city;\n",
        "SELECT Name, Population FROM city;"
      ],
      "execution_count": 0,
      "outputs": []
    },
    {
      "cell_type": "code",
      "metadata": {
        "id": "6wCdo0euP2qL",
        "colab_type": "code",
        "colab": {}
      },
      "source": [
        "# select where 예시\n",
        "SELECT *\n",
        "FROM city\n",
        "WHERE Population > 8000000\n",
        "\n",
        "# 이렇게 해도 됨\n",
        "SELECT * FROM city WEHRE Population > 8000000"
      ],
      "execution_count": 0,
      "outputs": []
    },
    {
      "cell_type": "code",
      "metadata": {
        "id": "24c6VwA5Qp36",
        "colab_type": "code",
        "colab": {}
      },
      "source": [
        "# select, where, 관계연산자 예시\n",
        "## 예시1\n",
        "SELECT *\n",
        "FROM city\n",
        "WHERE Population < 8000000\n",
        "AND Population > 70000000\n",
        "\n",
        "## 예시2\n",
        "SELECT *\n",
        "FROM city\n",
        "WHERE CountryCode = 'KOR'\n",
        "AND Population >= 1000000"
      ],
      "execution_count": 0,
      "outputs": []
    },
    {
      "cell_type": "code",
      "metadata": {
        "id": "3k9e3bceSdBV",
        "colab_type": "code",
        "colab": {}
      },
      "source": [
        "# select, in 예시\n",
        "SELECT *\n",
        "FROM city\n",
        "WHERE name IN('Seoul', 'New York', 'Tokyo')"
      ],
      "execution_count": 0,
      "outputs": []
    },
    {
      "cell_type": "code",
      "metadata": {
        "id": "8QFXFlcHTmI4",
        "colab_type": "code",
        "colab": {}
      },
      "source": [
        "# select, like 예시\n",
        "## 예시1\n",
        "WHERE *\n",
        "FROM city\n",
        "WHERE CountryCode LIKE 'KO_'\n",
        "\n",
        "## 예시2\n",
        "SELECT *\n",
        "FROM city\n",
        "WHERE CountryCode LIKE 'Tel %'"
      ],
      "execution_count": 0,
      "outputs": []
    },
    {
      "cell_type": "markdown",
      "metadata": {
        "id": "Hp3Z0_E-Kk_R",
        "colab_type": "text"
      },
      "source": [
        "# 이기적 SQL 개발자 (Oracle base)"
      ]
    },
    {
      "cell_type": "markdown",
      "metadata": {
        "id": "JxORC3PhrzhW",
        "colab_type": "text"
      },
      "source": [
        "## 기타 SQL문"
      ]
    },
    {
      "cell_type": "markdown",
      "metadata": {
        "id": "W0dOd6j7qXjX",
        "colab_type": "text"
      },
      "source": [
        "- SHOW DATABASES;: DB조회하기\n",
        "- CREATE DATABASE 데이터베이스명;: DB 만들기\n",
        "- USE 데이터베이스명;: DB 선택하기\n",
        "- DESCRIBE 테이블명: 테이블 schema, 열 조회하기"
      ]
    },
    {
      "cell_type": "markdown",
      "metadata": {
        "id": "jZuEq49I0KxE",
        "colab_type": "text"
      },
      "source": [
        "## DDL(Data Definition Language)"
      ]
    },
    {
      "cell_type": "markdown",
      "metadata": {
        "id": "PaBLs42n0PCS",
        "colab_type": "text"
      },
      "source": [
        "- RDB의 구조를 정의하는 언어\n",
        "- CREATE, ALTER, DROP 등등"
      ]
    },
    {
      "cell_type": "markdown",
      "metadata": {
        "id": "po5GJQp500_o",
        "colab_type": "text"
      },
      "source": [
        "\n",
        "> CREATE\n",
        "- CREATE TABLE 테이블명 ( 칼럼명 칼럼특성 데이터타입 특징);\n",
        "  - default, not null 등의 타입을 넣을 수 있음\n",
        "- CREATE VIEW 뷰이름 AS SELECT * FROM 테이블명;: 뷰(view) 생성하기. 뷰란? 테이블로부터 유도된 가상의 테이블\n",
        "\n",
        "> ALTER\n",
        "- ALTER TABLE 테이블명 RENAME TO 새테이블명;: 테이블명 변경하기\n",
        "- ALTER TABLE 테이블명 ADD (새칼럼명 데이터타입 특징);: 칼럼 추가하기\n",
        "- ALTER TABLE 테이블명 MODIFY (컬럼명 데이터타입 특징);: 칼럼 변경하기\n",
        "- ALTER TABLE 테이블명 DROP COLUMN 칼럼명;: 칼럼 삭제하기\n",
        "- ALTER TABLE 테이블명 RENAME COLUMN 칼럼명 TO 새칼럼명;: 칼럼 이름 바꾸기\n",
        "\n",
        "> DROP\n",
        "- DROP TABLE 테이블명;: 테이블 삭제하기\u001c\n",
        "- DROP TABLE 테이블명 CASCADE CONSTRAINT;: 테이블 삭제하기\u001c. 참조된 제약사항도 모두 삭제\n",
        "- DROP TABLE 테이블명 CASCADE CONSTRAINT;: 참조된 제약사항도 모두 삭제하기\n",
        "- DROP VIEW 뷰이름;: 뷰 삭제하기\n",
        "\n",
        "> DELETE\n",
        "- DELETE FROM 테이블명 WHERE 조건 = 조건;\n"
      ]
    },
    {
      "cell_type": "code",
      "metadata": {
        "id": "BiPtdD7A3XfS",
        "colab_type": "code",
        "colab": {}
      },
      "source": [
        "# constraints 쓰는 법\n",
        "CREATE TABLE dept\n",
        "(\n",
        "    deptno VARCHAR(4) primary key,\n",
        "    deptname VARCHAR(20)\n",
        ");\n",
        "\n",
        "CREATE TABLE emp\n",
        "(\n",
        "    empno int(10),\n",
        "    ename VARCHAR(15), \n",
        "    sal int(10) default 0,\n",
        "    deptno VARCHAR(4) NOT NULL,\n",
        "    createdata int(10) default 2,\n",
        "    CONSTRAINT emppk PRIMARY KEY(empno),\n",
        "    CONSTRAINT deptfk FOREIGN KEY(deptno)    # deptfk 외래키 이름\n",
        "                      REFERENCES dept(deptno)\n",
        "                      ON DELETE CASCADE      # 참조하고 있는 테이블의 데이터가 삭제되면 자동으로 삭제되는 옵션\n",
        ");"
      ],
      "execution_count": 0,
      "outputs": []
    },
    {
      "cell_type": "markdown",
      "metadata": {
        "colab_type": "text",
        "id": "h4DVjSOF0ibn"
      },
      "source": [
        "## DML(Data Manipulation Language)"
      ]
    },
    {
      "cell_type": "markdown",
      "metadata": {
        "id": "UeBTd5wm0p8j",
        "colab_type": "text"
      },
      "source": [
        "- 테이블에서 데이터를 입력, 수정, 삭제, 조회함\n",
        "- INSERT, UPDATE"
      ]
    },
    {
      "cell_type": "markdown",
      "metadata": {
        "id": "x_YSSPkJjGd0",
        "colab_type": "text"
      },
      "source": [
        "> INSERT\n",
        "- INSERT INTO 테이블명 (칼럼명1, 칼럼명2) VALUES (값1, 값2);: 칼럼에 데이터 입력하기, 칼럼명은 생략할 수 있다. 저장하기 위해서는 commit해야 됨.\n",
        "- INSERT INTO 테이블1 SELECT * FROM 테이블2;: 테이블2의 모든 데이터를 테이블1에 넣는다.\n",
        "<br>\n",
        "\n",
        "> ALTER\n",
        "- ALTER TABLE 테이블명 NOLOGGING;: 로그파일의 기록을 남기지 않아 입력 시 성능을 향상시키는 방법!\n",
        "- UPDATE 테이블명 SET 컬럼명&조건 WHERE 조건;: 입력된 데이터의 값을 수정하기 위함, 조건 미입력 시 모든 데이터가 수정됨\n",
        "<br>\n",
        "\n",
        "> DELETE\n",
        "- DELETE FROM 테이블명 WHERE 칼럼명&조건: 원하는 조건을 검색해서 행을 삭제. 조건 미입력 시 모든 데이터 삭제\n",
        "- DELETE FROM 테이블명;: 테이블의 모든 데이터를 삭제. 용량이 감소하지는 않음\n",
        "- TRUNCATE TABLE 테이블명;: 테이블의 모든 데이터를 삭제함. 용량이 초기화됨\n",
        "<br>\n",
        "\n",
        "> SELECT\n",
        "- SELECT 칼럼명 FROM 테이블명 LIMIT 숫자;: 조회를 제한할 수 있다.\n",
        "- SELECT 칼럼명1, 칼럼명2 FROM 테이블명 WHERE 조건;: 데이터 조회. 원하는 칼럼 선택하기 (*)\n",
        "\n",
        ">> ORDER BY\n",
        "- SELECT 칼럼명 FROM 테이블명 ORDER BY 칼럼명1 ASC, 칼럼명2 DESC;: 정렬할 때 사용, ORDER BY의 default는 ASC이다.\n",
        "- SELECT DISTINCT 칼럼명 FROM 테이블명 ORDER BY 칼럼명;: 중복된 데이터를 한 번만 조회함\n",
        "\n",
        ">> Alias\n",
        "- SELECT 칼럼명 AS \"줄인이름\" FROM 테이블명 테이블약칭 WHERE 조건;: Alias 사용방법\n",
        "\n",
        ">> WHERE\n",
        "- SELECT 칼럼명 FROM 테이블명 WHERE 조건1 AND 조건2;: 복수 조건 이용하기\n",
        "- SELECT 칼럼명 FROM 테이블명 WHERE 조건1 OR 조건2;: 복수 조건 이용하기\n",
        "\n",
        ">> LIKE\n",
        "- SELECT 칼럼명 FROM 테이블명 WHERE 조건1 LIKE '%';: 와일드카드 사용하기\n",
        "- SELECT 칼럼명 FROM 테이블명 WHERE 조건1 LIKE '_';: 와일드카드 사용하기\n",
        "\n",
        ">> BETWEEN\n",
        "- SELECT 칼럼명 FROM 테이블명 WHERE 칼럼명 BETWEEN 조건1 AND 조건2;: BETWEEN문 사용하기\n",
        "- SELECT 칼럼명 FROM 테이블명 WHERE 칼럼명 NOT BETWEEN 조건;: NOT BETWEEN문 사용하기\n",
        "\n",
        ">> IN\n",
        "- SELECT 칼럼명 FROM 테이블명 WHERE 칼럼명 IN (조건1, 조건2);: IN문 싸용하기\n",
        "\n",
        ">> IS NULL\n",
        "- SELECT 칼럼명 FROM 테이블명 WHERE 칼럼명 IS NULL;: 칼럼 속에서 null값 조회하기\n",
        "- SELECT 칼럼명 FROM 테이블명 WHERE 칼럼명 IS NOT NULL;: 칼럼 속에서 null값 아닌 거 조회하기\n",
        "- SELECT IFNULL(칼럼명, 값) FROM 테이블명;: null값 처리하기\n",
        "\n",
        "> GROUP\n",
        ">> GROUP BY\n",
        "- 소규모 행을 그룹화하여 합계, 평균, 최대값, 최소값 등을 계산\n",
        "- HAVING구에 조건문을 사용함\n",
        "- ORDER BY로 정렬할 수 있다.\n",
        "\n",
        ">> HAVING\n",
        "- GROUP BY에 조건절을 사용하기 위해 HAVING을 사용해야 함.\n",
        "\n",
        "> DECODE\n",
        "- IF문으로 구현. 조건이 참이면 A, 거짓이면 B를 반환\n",
        "- DECODE(칼럼, 조건, A, B)\n",
        "\n",
        "> CASE\n",
        "- 조건문 사용!\n",
        "- CASE  \n",
        "  WHEN 조건1 THEN 결과1\n",
        "  WHEN 조건2 THEN 결과2\n",
        "  WHEN 조건3 THEN 결과3\n",
        "  ELSE 결과4\n",
        "  END\n",
        "\n",
        "> ROWNUM\n",
        "- 조회되는 행 수를 제한할 때 사용\n",
        "\n",
        "> ROWID\n",
        "- Orcale DB 내에서 데이터를 구분할 수 있는 유일한 값\n",
        "\n",
        "> WITH\n",
        "- 서브쿼리를 사용해서 임시 테이블이나 뷰처럼 사용할 수 있는 구문\n",
        "\n",
        "> 집계함수 종류\n",
        "- COUNT(), COUNT(*)은 NULL 값을 포함한 모든 행수를 계산\n",
        "- SUM()\n",
        "- AVG()\n",
        "- MAX(), MIN()\n",
        "- STDDEV()\n",
        "- VARIAN()\n",
        "\n",
        "> SELECT문 실행순서\n",
        "- FROM => WHERE => GROUP BY => HAVING => SELECT => ORDER BY\n",
        "\n",
        "> 형변환\n",
        "- TO_NUMBER(문자열)\n",
        "- TO_CHAR\n",
        "- TO_DATE(문자열, 포맷)\n",
        "\n",
        "> 내장형 함수\n",
        "- ACSII(문자): 문자, 숫자를 ACSII 코드 값으로 변환함\n",
        "- CHAR(ACSII코드값): ACSII 코드 값을 문자로 변환\n",
        "- SUBSTR(문자열,m,n): 문자열에서 m번쨰 위치부터 n개를 자른다.\n",
        "- CONCAT(문자열1, 문자열2): 결합하기!\n",
        "- LOWER(문자열): 소문자 변환\n",
        "- UPPER(문자열): 대문자 변환\n",
        "- LEN(문자열): 길이 반환\n",
        "- LTRIM(문자열, 지정문자): 왼쪽에 지정된 문자를 삭제, 없으면 공백 삭제\n",
        "- RTRIM(문자열, 지정문자): 오른쪽에 지정된 문자를 삭제, 없으면 공백 삭제\n",
        "- TRIM(문자열, 지정문자): 양쪽에 지정된 문자를 삭제, 없으면 공백 삭제\n",
        "- ABS(숫자): 절대값 반환\n",
        "- SIGN(숫자): 양수, 음수, 0을 구별\n",
        "- MOD(숫자1, 숫자2): 나머지 계산, %\n",
        "- CEIL(숫자), CEILING(숫자): 높은 정수 반환\n",
        "- FLOOR(숫자): 낮은 정수 반환\n",
        "- ROUND(숫자, m): 소수점 m 자리에서 반올림\n",
        "- TRUNC(숫자, m): 소수점 m 자리에서 절삭"
      ]
    },
    {
      "cell_type": "code",
      "metadata": {
        "id": "fN4cPRrwgDFI",
        "colab_type": "code",
        "colab": {}
      },
      "source": [
        "# WITH 예시\n",
        "WITH viewData AS\n",
        "(SELECT * FROM emp\n",
        " UNION ALL\n",
        " SELECT * FROM emp\n",
        " )\n",
        "SELECT * FROM viewData WHERE empno=1000;"
      ],
      "execution_count": 0,
      "outputs": []
    },
    {
      "cell_type": "code",
      "metadata": {
        "id": "a3VBI2czfG3i",
        "colab_type": "code",
        "colab": {}
      },
      "source": [
        "# DECODE 예시\n",
        "SELECT DECODE(empno, 1000, 'TRUE', 'FALSE') FROM emp;"
      ],
      "execution_count": 0,
      "outputs": []
    },
    {
      "cell_type": "code",
      "metadata": {
        "id": "z-JCtSMlcAG8",
        "colab_type": "code",
        "colab": {}
      },
      "source": [
        "# GROUP BY 예시\n",
        "SELECT deptno, SUM(sal) FROM emp\n",
        "WHERE empno BETWEEN 1000 AND 1003\n",
        "GROUP BY deptno;"
      ],
      "execution_count": 0,
      "outputs": []
    },
    {
      "cell_type": "code",
      "metadata": {
        "id": "5_nbjNKgbdm4",
        "colab_type": "code",
        "colab": {}
      },
      "source": [
        "# COUNT(*)\n",
        "SELECT COUNT(*) FROM emp;"
      ],
      "execution_count": 0,
      "outputs": []
    },
    {
      "cell_type": "code",
      "metadata": {
        "id": "ID2HzQrIZ5XR",
        "colab_type": "code",
        "colab": {}
      },
      "source": [
        "# HAVING 예시\n",
        "SELECT deptno, SUM(sal)\n",
        "FROM emp\n",
        "GROUP BY deptno\n",
        "HAVING SUM(sal) > 10000;"
      ],
      "execution_count": 0,
      "outputs": []
    },
    {
      "cell_type": "code",
      "metadata": {
        "id": "vrl45cmGZroi",
        "colab_type": "code",
        "colab": {}
      },
      "source": [
        "# GROUP BY 예시\n",
        "SELECT deptno, SUM(sal)\n",
        "FROM emp\n",
        "GROUP BY deptno;"
      ],
      "execution_count": 0,
      "outputs": []
    },
    {
      "cell_type": "code",
      "metadata": {
        "id": "eRm1vTLercKc",
        "colab_type": "code",
        "colab": {}
      },
      "source": [
        "# IFNULL() 예시\n",
        "SELECT IFNULL(SALARY, 0) FROM EMPLOYEE_SALARY # SALARY 값이 NULL 이면 0을, NULL 이 아니면 SALARY 값을 출력"
      ],
      "execution_count": 0,
      "outputs": []
    },
    {
      "cell_type": "code",
      "metadata": {
        "id": "pYRxvlNkp-hh",
        "colab_type": "code",
        "colab": {}
      },
      "source": [
        "# BETWEEN 예시\n",
        "SELECT * FROM students WHERE height NOT BETWEEN 160 AND 180;"
      ],
      "execution_count": 0,
      "outputs": []
    },
    {
      "cell_type": "code",
      "metadata": {
        "id": "nS12BdFDp2MR",
        "colab_type": "code",
        "colab": {}
      },
      "source": [
        "# IN 예시\n",
        "SELECT * FROM students WHERE name in ('기장우', '박성재');"
      ],
      "execution_count": 0,
      "outputs": []
    },
    {
      "cell_type": "code",
      "metadata": {
        "id": "LEJKg_C7oSMV",
        "colab_type": "code",
        "colab": {}
      },
      "source": [
        "# 와일드카드 예시1\n",
        "SELECT * FROM students\n",
        "WHERE name LIKE '정%';  # '정'씨 모두 찾기\n",
        "\n",
        "# 와일드카드 예시2\n",
        "SELECT * FROM students\n",
        "WHERE name LIKE '%우';   # '우'로 끝나는 사람 찾기\n",
        "\n",
        "# 와일드카드 예시3\n",
        "SELECT * FROM students\n",
        "WHERE ENAME LIKE '%현%'   # 중간에 '현'이 있는 모든 데이터 조회\n",
        "\n",
        "# 와일드카드 예시4\n",
        "SELECT * FROM students\n",
        "WHERE ENAME LIKE '정현_'   # '정현'뒤에 하나의 글자만 더 있는 것을 조회"
      ],
      "execution_count": 0,
      "outputs": []
    },
    {
      "cell_type": "code",
      "metadata": {
        "id": "voFxhkxcnbNM",
        "colab_type": "code",
        "colab": {}
      },
      "source": [
        "# Alias 사용 예시\n",
        "SELECT full_family_name AS 'name' FROM student m\n",
        "WHERE m.score = 100;"
      ],
      "execution_count": 0,
      "outputs": []
    },
    {
      "cell_type": "markdown",
      "metadata": {
        "colab_type": "text",
        "id": "Xh043Jsp0ikf"
      },
      "source": [
        "## DCL(Data Control Language)"
      ]
    },
    {
      "cell_type": "markdown",
      "metadata": {
        "id": "B9Ssy84p0qSi",
        "colab_type": "text"
      },
      "source": [
        "- 사용자에게 권한을 부여하거나 회수한다.\n",
        "\n",
        "> GRANT\n",
        "- DB 사용자에게 권한을 부여\n",
        "- 권한 종류로는 SELECT, INSERT, UPDATE, DELETE, REFERENCES, ALTER, INDEX, ALL가 있다.\n",
        "- WITH GRANT OPTION, WITH ADMIN OPTION도 부여가능\n",
        "- GRANT 권한 ON 테이블명 TO user;\n",
        "\n",
        "\n",
        "> REVOKE\n",
        "- 권한을 회사\n",
        "- REVOKE 권한 ON 테이블명 FROM user;"
      ]
    },
    {
      "cell_type": "code",
      "metadata": {
        "id": "P96gikMkgqAO",
        "colab_type": "code",
        "colab": {}
      },
      "source": [
        "# GRANT문 예시1\n",
        "GRANT SELECT, INSERT, UPDATE, DELETE\n",
        "ON emp\n",
        "TO user-name;"
      ],
      "execution_count": 0,
      "outputs": []
    },
    {
      "cell_type": "markdown",
      "metadata": {
        "colab_type": "text",
        "id": "6RP6jt1g0isb"
      },
      "source": [
        "## TCL(Trarnsaction Control Language)"
      ]
    },
    {
      "cell_type": "markdown",
      "metadata": {
        "id": "Ivh9sj1O0O6c",
        "colab_type": "text"
      },
      "source": [
        "- 트랜잭션을 제어하는 명령어\n",
        "\n",
        "> COMMIT\n",
        "- 변경한 데이터를 DB에 반영\n",
        "- 변경 전 데이터는 잃어버림\n",
        "\n",
        "> ROLLBACK\n",
        "- 데이터에 대한 변경 사용을 모두 취소하고 트랜잭션을 종료\n",
        "- rollback;\n",
        "\n",
        "> SAVEPOINT\n",
        "- 트랜잭션을 작게 분할하여 관리\n",
        "- 지정된 위치까지만 트랜잭션을 ROLLBACK할 수 있음\n",
        "- savepoint 이름;\n",
        "- rollback to savepoint이름;"
      ]
    },
    {
      "cell_type": "markdown",
      "metadata": {
        "id": "qRQ1nQaNxhQA",
        "colab_type": "text"
      },
      "source": [
        "## 고급 SQL\n"
      ]
    },
    {
      "cell_type": "markdown",
      "metadata": {
        "id": "rArDKN1Z0Oy7",
        "colab_type": "text"
      },
      "source": [
        "\n",
        "> JOIN\n",
        "- SELECT 칼럼명 FROM 테이블1, 테이블2 WHERE 조건;: 테이블 합치기\n",
        "- SELECT 칼럼명 FROM 테이블1 INNER JOIN 테이블2 ON 조건;: Inner join 하기. join문에 조건 및 정렬가능\n",
        "\n",
        "> INTERSECT\n",
        "- SELECT 칼럼명 FROM 테이블명 WHERE 조건\n",
        " INTERSECT\n",
        "  SELECT 칼럼명 FROM 테이블명 WHERE 조건;: 교집합을 조회한다.\n",
        "\n",
        "> LEFT, RIGHT, CROSS JOIN\n",
        "- 정확하게 일치하지 않는 것을 조인하는 것.\n",
        "- (+)=로 OUTER JOIN을 할 수 있음\n",
        "- SELECT 칼럼명 FROM 테이블1 LEFT OUTER JOIN 테이블2 ON 조건;: LEFT OUTER JOIN\n",
        "- SELECT 칼럼명 FROM 테이블1 RIGHT OUTER JOIN 테이블2 ON 조건;: RIGHT OUTER JOIN \n",
        "- SELECT 칼럼명 FROM 테이블1 CROSS JOIN 테이블2;: CROSS JOIN하기\n",
        "\n",
        "> UNION\n",
        "- UNION 연산은 두 개의 테이블을 하나로 합치는 것이다. 테이블 칼럼 수, 형식이 모두 일치해야 함\n",
        "- 중복된 데이터는 알아서 제거함\n",
        "- SELECT 칼럼명 FROM 테이블1  \n",
        "  UNION  \n",
        "  SELECT 칼럼명 FROM 테이블2;: 이게 기본 method\n",
        "\n",
        "> UNION ALL\n",
        "- 중복을 제거하거나 정렬을 하지 않음\n",
        "- SELECT 칼럼명 FROM 테이블1  \n",
        "  UNION ALL\n",
        "  SELECT 칼럼명 FROM 테이블2;\n",
        "\n",
        "> MINUS\n",
        "- 차집합을 만드는 방법으로 먼저 쓴 SELECT문에 있고 뒤 SELECT문에 없는 것을 조회\n",
        "- SELECT 칼럼명 FROM 테이블1  \n",
        "  MINUS  \n",
        "  SELECT 칼럼명 FROM 테이블2;\n",
        "\n",
        "> Subquery\n",
        "- SELECT문 속에 SELECT문이 있는 SQL문.\n",
        "- 단일 행 subquery: 하나의 행만 반환하는 서브쿼리\n",
        "- 다중 행 subquery: 여러 개의 행을 반환하는 subquery. IN, ANY, ALL, EXISTS 등 다중 행 비교연산자를 사용해야 함.\n",
        ">> IN\n",
        "  - subquery 결과 중 하나만 동일하면 참(OR조건)  \n",
        "\n",
        ">> ALL\n",
        "  - 메인쿼리와 서브쿼리의 결과가 모두 동일하면 참\n",
        "\n",
        ">> EXISTS\n",
        "  - Subquery로 어떤 데이터 존재 여부를 확인하기\n",
        "\n",
        ">> Scale Subquery\n",
        "  - 반드시 한 행과 한 칼럼만 반환하는 서브쿼리\n",
        "  - 여러 행이 반환되면 오류가 발생함\n",
        "\n",
        ">> Correlated Subquery\n",
        "  - Subquery 내에서 Main Query 내의 칼럼을 사용하는 것\n",
        "  \n",
        "> Inline view\n",
        "- FROM문에 SELECT문을 사용한 것\n",
        "\n",
        "> Group\n",
        ">> Rollup\n",
        "  - GROUP BY의 칼럼에 대해서 Subtotal을 만들어줌\n",
        "\n",
        ">> GROUPING\n",
        "  - ROLLUP, CUBE, GROUPING SETS에서 생성되는 합계 값을 구분하기 위한 함수\n",
        "  \n",
        ">> GROUPING SETS\n",
        "  - GROUP BY에 나오는 칼럼 순서와 관계없이 다양한 소계를 만들 수 있음\n",
        "  - 칼럼의 순서와 관계없이 개별적으로 모두 처리함\n",
        "\n",
        "> CUBE\n",
        "- 제시한 칼럼에 대해서 결합 가능한 모든 집계를 계산한다."
      ]
    },
    {
      "cell_type": "code",
      "metadata": {
        "id": "3RX66b_IYxo1",
        "colab_type": "code",
        "colab": {}
      },
      "source": [
        "# CUBE 예시\n",
        "SELECT deptno, job, SUM(sal)\n",
        "FROM emp\n",
        "GROUP BY CUBE(deptno, job);"
      ],
      "execution_count": 0,
      "outputs": []
    },
    {
      "cell_type": "code",
      "metadata": {
        "id": "wnD2dGYjYWOJ",
        "colab_type": "code",
        "colab": {}
      },
      "source": [
        "# GROUPING SETS 예시\n",
        "SELECT deptno, job, SUM(sal)\n",
        "FROM emp\n",
        "GROUP BY GRORUPING SETS(deptno, job);"
      ],
      "execution_count": 0,
      "outputs": []
    },
    {
      "cell_type": "code",
      "metadata": {
        "id": "uxY3KUApXln_",
        "colab_type": "code",
        "colab": {}
      },
      "source": [
        "# GROUPING 예시1\n",
        "SELECT deptno, GROUPING(deptno),\n",
        "job, GROUPING(job), SUM(sal)\n",
        "FROM emp\n",
        "GROUP BY ROLLUP(deptno)\n",
        "\n",
        "# GROUPING 예시2\n",
        "SELECT deptno, \n",
        "DECODE(GROUPING(deptno), 1, '전체합계'), tot, job,\n",
        "DECODE(GROUPING(job), 1, '부서합계') t_dept,\n",
        "SUM(sal)\n",
        "FROM emp\n",
        "GROUP BY ROLLUP(deptno)"
      ],
      "execution_count": 0,
      "outputs": []
    },
    {
      "cell_type": "code",
      "metadata": {
        "id": "GFnJDHzjVIBx",
        "colab_type": "code",
        "colab": {}
      },
      "source": [
        "# ROLLUP 예시1\n",
        "SELECT DECODE(deptno, NULL, '전체합계', deptno),\n",
        "SUM(sal)\n",
        "FROM emp\n",
        "GROUP BY ROLLUP (deptno);\n",
        "\n",
        "# ROLLUP 예시2\n",
        "SELECT deptno, job, SUM(sal)\n",
        "FROM emp\n",
        "GROUP BY ROLLUP (deptno, job);"
      ],
      "execution_count": 0,
      "outputs": []
    },
    {
      "cell_type": "code",
      "metadata": {
        "id": "KaCZv9puUvam",
        "colab_type": "code",
        "colab": {}
      },
      "source": [
        "# Correlated Subquery\n",
        "FROM emp a\n",
        "WHERE a.deptno = \n",
        "( SELECT deptno FROm dept b\n",
        " WHERE b.deptno = a.deptno);"
      ],
      "execution_count": 0,
      "outputs": []
    },
    {
      "cell_type": "code",
      "metadata": {
        "id": "Gm1q-gRbUHLO",
        "colab_type": "code",
        "colab": {}
      },
      "source": [
        "# Scala Subquery\n",
        "SELECT ename AS \"이름\"\n",
        "sal AS \"급여\" (\n",
        "    SELECT AVG(sal)\n",
        "    FROM emp) AS \"평균급여\"\n",
        "    FROM emp\n",
        "    WHERE empno=1000;"
      ],
      "execution_count": 0,
      "outputs": []
    },
    {
      "cell_type": "code",
      "metadata": {
        "id": "d8NLq7hCTnE7",
        "colab_type": "code",
        "colab": {}
      },
      "source": [
        "# EXISTS\n",
        "SELECT ename, dname, sal\n",
        "FROM emp, dept\n",
        "WHERE emp.deptno=dept.deptno\n",
        "AND EXISTS (SELECT 1 FROM emp\n",
        "            WHERE sal > 2000);"
      ],
      "execution_count": 0,
      "outputs": []
    },
    {
      "cell_type": "code",
      "metadata": {
        "id": "X1tFL8arTfZH",
        "colab_type": "code",
        "colab": {}
      },
      "source": [
        "# ALL 예시\n",
        "SELECt *\n",
        "FROM emp\n",
        "WHERE deptno <= ALL (20, 30);"
      ],
      "execution_count": 0,
      "outputs": []
    },
    {
      "cell_type": "code",
      "metadata": {
        "id": "4TLpFu--ypvu",
        "colab_type": "code",
        "colab": {}
      },
      "source": [
        "# IN 예시\n",
        "SELECT ename, dname, sal\n",
        "FROM emp, dept\n",
        "WHERE emp, deptno = depf.deptno\n",
        "AND emp, empno\n",
        "IN (SELECT empno FROM emp\n",
        "    WHERE sal > 2000); # 급여(SAL)가 2000원 이상인 사원번호를 조회한 후에 EMP, EMPNO를 조회한다."
      ],
      "execution_count": 0,
      "outputs": []
    },
    {
      "cell_type": "code",
      "metadata": {
        "id": "RzDfxfZlvOsx",
        "colab_type": "code",
        "colab": {}
      },
      "source": [
        "# Subquery 예시\n",
        "SELECT *\n",
        "FROM emp\n",
        "WHERE deptno = (\n",
        "    SELECT deptno FROM dept \n",
        "    WHERE deptno = 10 \n",
        ");"
      ],
      "execution_count": 0,
      "outputs": []
    },
    {
      "cell_type": "code",
      "metadata": {
        "id": "pdBfbpuGuo7L",
        "colab_type": "code",
        "colab": {}
      },
      "source": [
        "# Inline View 예시\n",
        "SELECT *\n",
        "FROM (SELECT rownum num,enmae FROM emp) a\n",
        "WHERE num < 5;"
      ],
      "execution_count": 0,
      "outputs": []
    },
    {
      "cell_type": "code",
      "metadata": {
        "id": "w3_3_tQtweoZ",
        "colab_type": "code",
        "colab": {}
      },
      "source": [
        "# OUTER JOIN 예시\n",
        "SELECT * FROM dept, emp\n",
        "WHERE emp.deptno (+)= dept.deptno;"
      ],
      "execution_count": 0,
      "outputs": []
    },
    {
      "cell_type": "code",
      "metadata": {
        "id": "dbMIbh28tY8l",
        "colab_type": "code",
        "colab": {}
      },
      "source": [
        "# INNER JOIN 예시1\n",
        "SELECT * FROM emp \n",
        "INNER JOIN dept\n",
        "ON emp.deptno = dept.deptno;\n",
        "\n",
        "# INNER JOIN 예시2\n",
        "SELECT * FROM emp, dept\n",
        "WHERE emp.deptno = dept.deptno\n",
        "AND emp.ename = LIKE '임%'\n",
        "ORDER BY ename;"
      ],
      "execution_count": 0,
      "outputs": []
    },
    {
      "cell_type": "markdown",
      "metadata": {
        "id": "iHeLp-2kst6F",
        "colab_type": "text"
      },
      "source": [
        "![](https://t1.daumcdn.net/cfile/tistory/23660A34583405E938)"
      ]
    },
    {
      "cell_type": "code",
      "metadata": {
        "id": "X3N3-kx60Oa7",
        "colab_type": "code",
        "colab": {}
      },
      "source": [
        "# JOIN 예시 1\n",
        "SELECT gg._id, gg.name, s.title\n",
        "FROM girl_group AS gg \n",
        "JOIN song AS s\n",
        "ON s._id = gg.hit_song_id;\n",
        "\n",
        "# JOIN 예시 2\n",
        "SELECT * FROM emp, dept\n",
        "WHERE emp.deptno = dept.deptno;"
      ],
      "execution_count": 0,
      "outputs": []
    },
    {
      "cell_type": "code",
      "metadata": {
        "id": "7ZCRsdcdMI2c",
        "colab_type": "code",
        "colab": {}
      },
      "source": [
        ""
      ],
      "execution_count": 0,
      "outputs": []
    }
  ]
}